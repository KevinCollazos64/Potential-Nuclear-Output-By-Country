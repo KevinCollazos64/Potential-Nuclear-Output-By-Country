{
 "cells": [
  {
   "cell_type": "markdown",
   "id": "f68c7b88-d7fb-4af7-9d90-28219e237e37",
   "metadata": {},
   "source": [
    "# Objective"
   ]
  },
  {
   "cell_type": "markdown",
   "id": "5db20635-eae0-4ff9-a02f-637a64e19fc2",
   "metadata": {},
   "source": [
    "## The primary objective of this machine learning project is to predict the potenial nuclear energy output of countries that have not yet embraced nuclear power but have materials like lithium, tritium and deuterium present"
   ]
  },
  {
   "cell_type": "markdown",
   "id": "42e852a5-e5c8-469b-9e53-3943f8316bdc",
   "metadata": {},
   "source": [
    "# Technologies"
   ]
  },
  {
   "cell_type": "markdown",
   "id": "58a92039-b334-4022-8a32-0fb8247a1fa1",
   "metadata": {},
   "source": [
    "## Pyspark\n",
    "## SQL"
   ]
  },
  {
   "cell_type": "markdown",
   "id": "7b23e634-ad89-4df6-91b7-2f956250368b",
   "metadata": {},
   "source": [
    "# Dataset selection"
   ]
  },
  {
   "cell_type": "markdown",
   "id": "e0e3c013-2aba-4ac7-a9b5-6ce7ad9f7bb2",
   "metadata": {},
   "source": [
    "## The models will be trained and tested based on commodity summaries published in 2023 by the U.S Geological Survey"
   ]
  },
  {
   "cell_type": "markdown",
   "id": "ab95698c-41a2-475f-be7b-38230160946c",
   "metadata": {},
   "source": [
    "## CSVs \n",
    "### LITHIUM Data Release\n",
    "#### Reasoning: Lithium is essential for producing tritium used in nuclear fusion reactions. The global availability and production of lithium will provide key insights for estimating the potential for nuclear energy output.\n",
    "### ZIRCONIUM AND HAFNIUM Data Release\n",
    "#### Reasoning: Zirconium is a critical material used in nuclear reactors (cladding fuel rods due to its low neutron absorption). Hafnium is often found with Zirconium and is used in control rods. This dataset provides information to understand the infrastructure needs for nuclear energy production. \n",
    "### RARE EARTHS Data Release\n",
    "#### Reasoning: Rare earth elements are vital for advanced nuclear technologies like reactor components and control systems. The data here can shed light on availability of this materials, which could influence the feasability of nuclear energy production in new regions."
   ]
  },
  {
   "cell_type": "markdown",
   "id": "fd3ebc4b-280a-4b69-a7a2-bc1a0ecfce8e",
   "metadata": {},
   "source": [
    "# Models"
   ]
  },
  {
   "cell_type": "markdown",
   "id": "7195f4a3-1c49-4bd9-a130-d82a73a47096",
   "metadata": {},
   "source": [
    "## XGBoost   \n",
    "## Deep Neural Network\n",
    "## Random Forest\n",
    "## Linear Regression\n",
    "## Ensemble"
   ]
  },
  {
   "cell_type": "markdown",
   "id": "dc802642-45cf-4201-8746-66a08f08376a",
   "metadata": {},
   "source": [
    "# References"
   ]
  },
  {
   "cell_type": "markdown",
   "id": "db241e3e-45de-459b-aed1-b82641e9ebe8",
   "metadata": {},
   "source": [
    "## https://www.energy.gov/ne/articles/nuclear-power-most-reliable-energy-source-and-its-not-even-close\n",
    "## https://www.iea.org/reports/lithium\n",
    "## https://tableau.usgs.gov/views/MCSDashboardWorkbook_2023-12-20/MCSDashboard?%3Aembed=y&%3AisGuestRedirectFromVizportal=y\n",
    "## https://www.sciencebase.gov/catalog/item/63b5f411d34e92aad3caa57f\n",
    "## https://pubs.usgs.gov/publication/mcs2023\n",
    "## https://www.isric.org/explore/soil-geographic-databases\n",
    "## https://data.isric.org/geonetwork/srv/eng/catalog.search#/home\n",
    "## https://www.ncei.noaa.gov/access/world-ocean-database-select/bin/dbsearch.pl\n",
    "## https://www.eia.gov/energyexplained/nuclear/data-and-statistics.php"
   ]
  }
 ],
 "metadata": {
  "kernelspec": {
   "display_name": "Python (tf_env)",
   "language": "python",
   "name": "tf_env"
  },
  "language_info": {
   "codemirror_mode": {
    "name": "ipython",
    "version": 3
   },
   "file_extension": ".py",
   "mimetype": "text/x-python",
   "name": "python",
   "nbconvert_exporter": "python",
   "pygments_lexer": "ipython3",
   "version": "3.7.12"
  }
 },
 "nbformat": 4,
 "nbformat_minor": 5
}
